{
 "cells": [
  {
   "cell_type": "markdown",
   "id": "0874b43d-35a5-430d-b1fa-aac07629c3b6",
   "metadata": {},
   "source": [
    "# Structural Reliability\n",
    "\n",
    "A simulation dataset of a structural reliability model with one key output variable and four input variables is used for this case. "
   ]
  },
  {
   "cell_type": "code",
   "id": "cedd5ec9-31f7-4e7f-91be-f73b1d1d00f1",
   "metadata": {
    "scrolled": true,
    "ExecuteTime": {
     "end_time": "2024-05-30T09:06:58.579066Z",
     "start_time": "2024-05-30T09:06:58.552735Z"
    }
   },
   "source": [
    "import pathlib\n",
    "\n",
    "import matplotlib.pyplot as plt\n",
    "import pandas as pd\n",
    "import simdec as sd"
   ],
   "outputs": [],
   "execution_count": 1
  },
  {
   "metadata": {},
   "cell_type": "markdown",
   "source": "Let's first load the dataset. It's a CSV file, each row represent a simulation or sample. The first column is the output or quantity of interest and other columns are parameters' values.",
   "id": "8700ed278bb1c06d"
  },
  {
   "cell_type": "code",
   "id": "0b21846d-edff-4e39-a423-b247f81c4520",
   "metadata": {
    "ExecuteTime": {
     "end_time": "2024-05-30T09:06:58.595823Z",
     "start_time": "2024-05-30T09:06:58.579870Z"
    }
   },
   "source": [
    "fname = pathlib.Path(\"../../tests/data/stress.csv\")\n",
    "\n",
    "data = pd.read_csv(fname)\n",
    "output_name, *inputs_names = list(data.columns)\n",
    "inputs, output = data[inputs_names], data[output_name]\n",
    "inputs.head()"
   ],
   "outputs": [
    {
     "data": {
      "text/plain": [
       "         Kf   sigma_res       Rp0.2         R\n",
       "0  2.454866  -84.530638  297.406169 -0.834480\n",
       "1  2.774116  347.586947  379.499452 -0.131827\n",
       "2  2.504617  946.567040  940.477667 -0.039126\n",
       "3  2.466723   74.222224  406.622486  0.440311\n",
       "4  2.615602  -32.937734  979.498038  0.419690"
      ],
      "text/html": [
       "<div>\n",
       "<style scoped>\n",
       "    .dataframe tbody tr th:only-of-type {\n",
       "        vertical-align: middle;\n",
       "    }\n",
       "\n",
       "    .dataframe tbody tr th {\n",
       "        vertical-align: top;\n",
       "    }\n",
       "\n",
       "    .dataframe thead th {\n",
       "        text-align: right;\n",
       "    }\n",
       "</style>\n",
       "<table border=\"1\" class=\"dataframe\">\n",
       "  <thead>\n",
       "    <tr style=\"text-align: right;\">\n",
       "      <th></th>\n",
       "      <th>Kf</th>\n",
       "      <th>sigma_res</th>\n",
       "      <th>Rp0.2</th>\n",
       "      <th>R</th>\n",
       "    </tr>\n",
       "  </thead>\n",
       "  <tbody>\n",
       "    <tr>\n",
       "      <th>0</th>\n",
       "      <td>2.454866</td>\n",
       "      <td>-84.530638</td>\n",
       "      <td>297.406169</td>\n",
       "      <td>-0.834480</td>\n",
       "    </tr>\n",
       "    <tr>\n",
       "      <th>1</th>\n",
       "      <td>2.774116</td>\n",
       "      <td>347.586947</td>\n",
       "      <td>379.499452</td>\n",
       "      <td>-0.131827</td>\n",
       "    </tr>\n",
       "    <tr>\n",
       "      <th>2</th>\n",
       "      <td>2.504617</td>\n",
       "      <td>946.567040</td>\n",
       "      <td>940.477667</td>\n",
       "      <td>-0.039126</td>\n",
       "    </tr>\n",
       "    <tr>\n",
       "      <th>3</th>\n",
       "      <td>2.466723</td>\n",
       "      <td>74.222224</td>\n",
       "      <td>406.622486</td>\n",
       "      <td>0.440311</td>\n",
       "    </tr>\n",
       "    <tr>\n",
       "      <th>4</th>\n",
       "      <td>2.615602</td>\n",
       "      <td>-32.937734</td>\n",
       "      <td>979.498038</td>\n",
       "      <td>0.419690</td>\n",
       "    </tr>\n",
       "  </tbody>\n",
       "</table>\n",
       "</div>"
      ]
     },
     "execution_count": 2,
     "metadata": {},
     "output_type": "execute_result"
    }
   ],
   "execution_count": 2
  },
  {
   "cell_type": "code",
   "id": "4206d712-b525-4e9b-9724-262a1fb3fb02",
   "metadata": {
    "ExecuteTime": {
     "end_time": "2024-05-30T09:06:58.600368Z",
     "start_time": "2024-05-30T09:06:58.596622Z"
    }
   },
   "source": "output.head()",
   "outputs": [
    {
     "data": {
      "text/plain": [
       "0    311.898918\n",
       "1    500.044381\n",
       "2    715.171820\n",
       "3    482.477633\n",
       "4    663.983635\n",
       "Name: delta_sig, dtype: float64"
      ]
     },
     "execution_count": 3,
     "metadata": {},
     "output_type": "execute_result"
    }
   ],
   "execution_count": 3
  },
  {
   "metadata": {},
   "cell_type": "markdown",
   "source": "We can then compute sensitivity indices. In this case we will return Sobol' indices by using a simple binning approach.",
   "id": "f3ddc48a39ba7d27"
  },
  {
   "cell_type": "code",
   "id": "1367362a-9b3d-4624-88d5-4931d4a56c8d",
   "metadata": {
    "ExecuteTime": {
     "end_time": "2024-05-30T09:06:58.622967Z",
     "start_time": "2024-05-30T09:06:58.601123Z"
    }
   },
   "source": [
    "indices = sd.sensitivity_indices(inputs=inputs, output=output)\n",
    "indices"
   ],
   "outputs": [
    {
     "data": {
      "text/plain": [
       "SensitivityAnalysisResult(si=array([0.03735157, 0.55436865, 0.13488759, 0.35593683]), first_order=array([0.03666241, 0.50270644, 0.10694638, 0.27702256]), second_order=array([[0.        , 0.        , 0.00137831, 0.        ],\n",
       "       [0.        , 0.        , 0.        , 0.10332443],\n",
       "       [0.00137831, 0.        , 0.        , 0.0545041 ],\n",
       "       [0.        , 0.10332443, 0.0545041 , 0.        ]]))"
      ]
     },
     "execution_count": 4,
     "metadata": {},
     "output_type": "execute_result"
    }
   ],
   "execution_count": 4
  },
  {
   "metadata": {},
   "cell_type": "markdown",
   "source": "With this information, we can decompose the problem with SimDec.",
   "id": "f573990c0b589a"
  },
  {
   "cell_type": "code",
   "id": "ad38a9b2-199a-458e-953b-33dbee5b9bd1",
   "metadata": {
    "ExecuteTime": {
     "end_time": "2024-05-30T09:06:58.646953Z",
     "start_time": "2024-05-30T09:06:58.624749Z"
    }
   },
   "source": [
    "si = indices.si\n",
    "res = sd.decomposition(inputs=inputs, output=output, sensitivity_indices=si)\n",
    "res"
   ],
   "outputs": [
    {
     "data": {
      "text/plain": [
       "DecompositionResult(var_names=['sigma_res', 'R'], statistic=array([[282.07754592, 407.79220985, 541.32231297],\n",
       "       [434.89823001, 485.71976552, 534.1939336 ],\n",
       "       [703.90456847, 725.15075719, 755.65161563]]), bins=               0           1           2           3           4           5  \\\n",
       "0     311.898918  565.755452  663.983635  409.659023  500.044381  482.477633   \n",
       "1     210.727366  468.836865  496.688973  448.747937  461.183337  535.841646   \n",
       "2      61.163271  474.595725  551.641014  387.720239  428.518186  534.050989   \n",
       "3     126.402829  404.649624  419.194207  420.077617  472.827542  456.816425   \n",
       "4      86.214556  245.112746  498.566253  362.089205  449.201292  414.209521   \n",
       "...          ...         ...         ...         ...         ...         ...   \n",
       "2551         NaN         NaN  544.400366         NaN         NaN         NaN   \n",
       "2552         NaN         NaN  415.030100         NaN         NaN         NaN   \n",
       "2553         NaN         NaN  476.182362         NaN         NaN         NaN   \n",
       "2554         NaN         NaN  545.191674         NaN         NaN         NaN   \n",
       "2555         NaN         NaN  609.400127         NaN         NaN         NaN   \n",
       "\n",
       "               6           7           8  \n",
       "0     746.123228  715.171820  782.547166  \n",
       "1     679.791011  731.671886  781.319970  \n",
       "2     687.661203  695.831495  748.471898  \n",
       "3     716.001934  720.095096  736.710396  \n",
       "4     713.997502  729.323426  772.169673  \n",
       "...          ...         ...         ...  \n",
       "2551         NaN         NaN         NaN  \n",
       "2552         NaN         NaN         NaN  \n",
       "2553         NaN         NaN         NaN  \n",
       "2554         NaN         NaN         NaN  \n",
       "2555         NaN         NaN         NaN  \n",
       "\n",
       "[2556 rows x 9 columns], states=[3, 3], bin_edges=[array([-399.89835911,   50.03854271,  499.97544454,  949.91234636]), array([-1.19998572, -0.56667382,  0.06663808,  0.69994998])])"
      ]
     },
     "execution_count": 5,
     "metadata": {},
     "output_type": "execute_result"
    }
   ],
   "execution_count": 5
  },
  {
   "metadata": {},
   "cell_type": "markdown",
   "source": [
    "These are the raw result, we can use some helper functions to make some visualization.\n",
    "We need a nice color palettes, using the states we can get a palette for all variables."
   ],
   "id": "f79c7e53a7a3442c"
  },
  {
   "cell_type": "code",
   "id": "baf6963d-700c-4eca-83c8-35b6a487e105",
   "metadata": {
    "ExecuteTime": {
     "end_time": "2024-05-30T09:06:58.652660Z",
     "start_time": "2024-05-30T09:06:58.647710Z"
    }
   },
   "source": [
    "palette = sd.palette(states=res.states)[::-1]\n",
    "palette"
   ],
   "outputs": [
    {
     "data": {
      "text/plain": [
       "[[0.0702614379084967, 0.43562091503267975, 0.41353874883286645, 1.0],\n",
       " [0.1227668845315904, 0.7203703703703704, 0.6842514783691254, 1.0],\n",
       " [0.5846405228758169, 0.9330065359477124, 0.9119514472455649, 1.0],\n",
       " [0.4956417501498417, 0.5004538059765391, 0.050526586180323685, 1.0],\n",
       " [0.7717498644290322, 0.778582641207866, 0.1397180123869053, 1.0],\n",
       " [0.9651425635756488, 0.9681736450038532, 0.6847675314667352, 1.0],\n",
       " [0.43562091503267975, 0.0702614379084967, 0.24892623716153087, 1.0],\n",
       " [0.7203703703703704, 0.1227668845315904, 0.41500155617802664, 1.0],\n",
       " [0.9330065359477124, 0.5846405228758169, 0.7549953314659192, 1.0]]"
      ]
     },
     "execution_count": 6,
     "metadata": {},
     "output_type": "execute_result"
    }
   ],
   "execution_count": 6
  },
  {
   "metadata": {},
   "cell_type": "markdown",
   "source": "Here we are! Look at the decomposition itself with the bins.",
   "id": "7655c82c3352a2ae"
  },
  {
   "cell_type": "code",
   "id": "fe70e06e-5377-431e-8e3e-82aa4d21a792",
   "metadata": {
    "ExecuteTime": {
     "end_time": "2024-05-30T09:06:59.140251Z",
     "start_time": "2024-05-30T09:06:58.653609Z"
    }
   },
   "source": [
    "fig, ax = plt.subplots()\n",
    "ax = sd.visualization(bins=res.bins, palette=palette, ax=ax)"
   ],
   "outputs": [
    {
     "data": {
      "text/plain": [
       "<Figure size 640x480 with 1 Axes>"
      ],
      "image/png": "[encoded data removed]"
     },
     "metadata": {},
     "output_type": "display_data"
    }
   ],
   "execution_count": 7
  },
  {
   "metadata": {},
   "cell_type": "markdown",
   "source": "We can also use a boxplot.",
   "id": "a77020a4fd2737b3"
  },
  {
   "cell_type": "code",
   "id": "2e340cd7-bab2-4b36-9b2c-0a300b2fd57b",
   "metadata": {
    "ExecuteTime": {
     "end_time": "2024-05-30T09:06:59.299570Z",
     "start_time": "2024-05-30T09:06:59.141519Z"
    }
   },
   "source": [
    "fig, ax = plt.subplots()\n",
    "ax = sd.visualization(bins=res.bins, palette=palette, kind=\"boxplot\", ax=ax)"
   ],
   "outputs": [
    {
     "data": {
      "text/plain": [
       "<Figure size 640x480 with 1 Axes>"
      ],
      "image/png": "[encoded data removed]"
     },
     "metadata": {},
     "output_type": "display_data"
    }
   ],
   "execution_count": 8
  },
  {
   "metadata": {},
   "cell_type": "markdown",
   "source": [
    "Inputs 3 and 1 have the highest sensitivity indices and thus are automatically chosen for decomposition. The most influential input 3 divides the distribution of the output into three main states with distinct colors. Input 1 further subdivides them into shades. From the graph, it becomes obvious that input 1 influences the output when input 3 is low, but has a negligible effect when input 3 is medium or high.\n",
    "\n",
    "Finally, we can get some statistics on all states and scenarios with a table."
   ],
   "id": "455de7abf6c44fe7"
  },
  {
   "cell_type": "code",
   "id": "1d3dfce7-bf9c-42e1-97b4-a0b9d6a27a83",
   "metadata": {
    "ExecuteTime": {
     "end_time": "2024-05-30T09:06:59.321196Z",
     "start_time": "2024-05-30T09:06:59.303862Z"
    }
   },
   "source": [
    "table, styler = sd.tableau(\n",
    "    statistic=res.statistic,\n",
    "    var_names=res.var_names,\n",
    "    states=res.states,\n",
    "    bins=res.bins,\n",
    "    palette=palette,\n",
    ")\n",
    "styler"
   ],
   "outputs": [
    {
     "data": {
      "text/plain": [
       "<pandas.io.formats.style.Styler at 0x14f241850>"
      ],
      "text/html": [
       "<style type=\"text/css\">\n",
       "#T_2f063 th {\n",
       "  text-align: center;\n",
       "}\n",
       "#T_2f063_row0_col1 {\n",
       "  background-color: #126f69;\n",
       "  color: #f1f1f1;\n",
       "}\n",
       "#T_2f063_row1_col1 {\n",
       "  background-color: #1fb8ae;\n",
       "  color: #f1f1f1;\n",
       "}\n",
       "#T_2f063_row2_col1 {\n",
       "  background-color: #95eee9;\n",
       "  color: #000000;\n",
       "}\n",
       "#T_2f063_row3_col1 {\n",
       "  background-color: #7e800d;\n",
       "  color: #f1f1f1;\n",
       "}\n",
       "#T_2f063_row4_col1 {\n",
       "  background-color: #c5c724;\n",
       "  color: #000000;\n",
       "}\n",
       "#T_2f063_row5_col1 {\n",
       "  background-color: #f6f7af;\n",
       "  color: #000000;\n",
       "}\n",
       "#T_2f063_row6_col1 {\n",
       "  background-color: #6f123f;\n",
       "  color: #f1f1f1;\n",
       "}\n",
       "#T_2f063_row7_col1 {\n",
       "  background-color: #b81f6a;\n",
       "  color: #f1f1f1;\n",
       "}\n",
       "#T_2f063_row8_col1 {\n",
       "  background-color: #ee95c1;\n",
       "  color: #000000;\n",
       "}\n",
       "</style>\n",
       "<table id=\"T_2f063\">\n",
       "  <thead>\n",
       "    <tr>\n",
       "      <th class=\"blank\" >&nbsp;</th>\n",
       "      <th class=\"blank level0\" >&nbsp;</th>\n",
       "      <th id=\"T_2f063_level0_col0\" class=\"col_heading level0 col0\" >N°</th>\n",
       "      <th id=\"T_2f063_level0_col1\" class=\"col_heading level0 col1\" >colour</th>\n",
       "      <th id=\"T_2f063_level0_col2\" class=\"col_heading level0 col2\" >std</th>\n",
       "      <th id=\"T_2f063_level0_col3\" class=\"col_heading level0 col3\" >min</th>\n",
       "      <th id=\"T_2f063_level0_col4\" class=\"col_heading level0 col4\" >mean</th>\n",
       "      <th id=\"T_2f063_level0_col5\" class=\"col_heading level0 col5\" >max</th>\n",
       "      <th id=\"T_2f063_level0_col6\" class=\"col_heading level0 col6\" >probability</th>\n",
       "    </tr>\n",
       "    <tr>\n",
       "      <th class=\"index_name level0\" >sigma_res</th>\n",
       "      <th class=\"index_name level1\" >R</th>\n",
       "      <th class=\"blank col0\" >&nbsp;</th>\n",
       "      <th class=\"blank col1\" >&nbsp;</th>\n",
       "      <th class=\"blank col2\" >&nbsp;</th>\n",
       "      <th class=\"blank col3\" >&nbsp;</th>\n",
       "      <th class=\"blank col4\" >&nbsp;</th>\n",
       "      <th class=\"blank col5\" >&nbsp;</th>\n",
       "      <th class=\"blank col6\" >&nbsp;</th>\n",
       "    </tr>\n",
       "  </thead>\n",
       "  <tbody>\n",
       "    <tr>\n",
       "      <th id=\"T_2f063_level0_row0\" class=\"row_heading level0 row0\" rowspan=\"3\">low</th>\n",
       "      <th id=\"T_2f063_level1_row0\" class=\"row_heading level1 row0\" >low</th>\n",
       "      <td id=\"T_2f063_row0_col0\" class=\"data row0 col0\" >9</td>\n",
       "      <td id=\"T_2f063_row0_col1\" class=\"data row0 col1\" ></td>\n",
       "      <td id=\"T_2f063_row0_col2\" class=\"data row0 col2\" >95.34</td>\n",
       "      <td id=\"T_2f063_row0_col3\" class=\"data row0 col3\" >11.19</td>\n",
       "      <td id=\"T_2f063_row0_col4\" class=\"data row0 col4\" >282.08</td>\n",
       "      <td id=\"T_2f063_row0_col5\" class=\"data row0 col5\" >460.07</td>\n",
       "      <td id=\"T_2f063_row0_col6\" class=\"data row0 col6\" >0.19</td>\n",
       "    </tr>\n",
       "    <tr>\n",
       "      <th id=\"T_2f063_level1_row1\" class=\"row_heading level1 row1\" >medium</th>\n",
       "      <td id=\"T_2f063_row1_col0\" class=\"data row1 col0\" >8</td>\n",
       "      <td id=\"T_2f063_row1_col1\" class=\"data row1 col1\" ></td>\n",
       "      <td id=\"T_2f063_row1_col2\" class=\"data row1 col2\" >87.76</td>\n",
       "      <td id=\"T_2f063_row1_col3\" class=\"data row1 col3\" >67.53</td>\n",
       "      <td id=\"T_2f063_row1_col4\" class=\"data row1 col4\" >407.79</td>\n",
       "      <td id=\"T_2f063_row1_col5\" class=\"data row1 col5\" >622.35</td>\n",
       "      <td id=\"T_2f063_row1_col6\" class=\"data row1 col6\" >0.12</td>\n",
       "    </tr>\n",
       "    <tr>\n",
       "      <th id=\"T_2f063_level1_row2\" class=\"row_heading level1 row2\" >high</th>\n",
       "      <td id=\"T_2f063_row2_col0\" class=\"data row2 col0\" >7</td>\n",
       "      <td id=\"T_2f063_row2_col1\" class=\"data row2 col1\" ></td>\n",
       "      <td id=\"T_2f063_row2_col2\" class=\"data row2 col2\" >108.03</td>\n",
       "      <td id=\"T_2f063_row2_col3\" class=\"data row2 col3\" >237.13</td>\n",
       "      <td id=\"T_2f063_row2_col4\" class=\"data row2 col4\" >541.32</td>\n",
       "      <td id=\"T_2f063_row2_col5\" class=\"data row2 col5\" >819.41</td>\n",
       "      <td id=\"T_2f063_row2_col6\" class=\"data row2 col6\" >0.26</td>\n",
       "    </tr>\n",
       "    <tr>\n",
       "      <th id=\"T_2f063_level0_row3\" class=\"row_heading level0 row3\" rowspan=\"3\">medium</th>\n",
       "      <th id=\"T_2f063_level1_row3\" class=\"row_heading level1 row3\" >low</th>\n",
       "      <td id=\"T_2f063_row3_col0\" class=\"data row3 col0\" >6</td>\n",
       "      <td id=\"T_2f063_row3_col1\" class=\"data row3 col1\" ></td>\n",
       "      <td id=\"T_2f063_row3_col2\" class=\"data row3 col2\" >34.92</td>\n",
       "      <td id=\"T_2f063_row3_col3\" class=\"data row3 col3\" >350.30</td>\n",
       "      <td id=\"T_2f063_row3_col4\" class=\"data row3 col4\" >434.90</td>\n",
       "      <td id=\"T_2f063_row3_col5\" class=\"data row3 col5\" >523.84</td>\n",
       "      <td id=\"T_2f063_row3_col6\" class=\"data row3 col6\" >0.09</td>\n",
       "    </tr>\n",
       "    <tr>\n",
       "      <th id=\"T_2f063_level1_row4\" class=\"row_heading level1 row4\" >medium</th>\n",
       "      <td id=\"T_2f063_row4_col0\" class=\"data row4 col0\" >5</td>\n",
       "      <td id=\"T_2f063_row4_col1\" class=\"data row4 col1\" ></td>\n",
       "      <td id=\"T_2f063_row4_col2\" class=\"data row4 col2\" >44.39</td>\n",
       "      <td id=\"T_2f063_row4_col3\" class=\"data row4 col3\" >398.42</td>\n",
       "      <td id=\"T_2f063_row4_col4\" class=\"data row4 col4\" >485.72</td>\n",
       "      <td id=\"T_2f063_row4_col5\" class=\"data row4 col5\" >650.98</td>\n",
       "      <td id=\"T_2f063_row4_col6\" class=\"data row4 col6\" >0.06</td>\n",
       "    </tr>\n",
       "    <tr>\n",
       "      <th id=\"T_2f063_level1_row5\" class=\"row_heading level1 row5\" >high</th>\n",
       "      <td id=\"T_2f063_row5_col0\" class=\"data row5 col0\" >4</td>\n",
       "      <td id=\"T_2f063_row5_col1\" class=\"data row5 col1\" ></td>\n",
       "      <td id=\"T_2f063_row5_col2\" class=\"data row5 col2\" >75.80</td>\n",
       "      <td id=\"T_2f063_row5_col3\" class=\"data row5 col3\" >414.21</td>\n",
       "      <td id=\"T_2f063_row5_col4\" class=\"data row5 col4\" >534.19</td>\n",
       "      <td id=\"T_2f063_row5_col5\" class=\"data row5 col5\" >814.43</td>\n",
       "      <td id=\"T_2f063_row5_col6\" class=\"data row5 col6\" >0.11</td>\n",
       "    </tr>\n",
       "    <tr>\n",
       "      <th id=\"T_2f063_level0_row6\" class=\"row_heading level0 row6\" rowspan=\"3\">high</th>\n",
       "      <th id=\"T_2f063_level1_row6\" class=\"row_heading level1 row6\" >low</th>\n",
       "      <td id=\"T_2f063_row6_col0\" class=\"data row6 col0\" >3</td>\n",
       "      <td id=\"T_2f063_row6_col1\" class=\"data row6 col1\" ></td>\n",
       "      <td id=\"T_2f063_row6_col2\" class=\"data row6 col2\" >35.43</td>\n",
       "      <td id=\"T_2f063_row6_col3\" class=\"data row6 col3\" >630.24</td>\n",
       "      <td id=\"T_2f063_row6_col4\" class=\"data row6 col4\" >703.90</td>\n",
       "      <td id=\"T_2f063_row6_col5\" class=\"data row6 col5\" >794.81</td>\n",
       "      <td id=\"T_2f063_row6_col6\" class=\"data row6 col6\" >0.06</td>\n",
       "    </tr>\n",
       "    <tr>\n",
       "      <th id=\"T_2f063_level1_row7\" class=\"row_heading level1 row7\" >medium</th>\n",
       "      <td id=\"T_2f063_row7_col0\" class=\"data row7 col0\" >2</td>\n",
       "      <td id=\"T_2f063_row7_col1\" class=\"data row7 col1\" ></td>\n",
       "      <td id=\"T_2f063_row7_col2\" class=\"data row7 col2\" >33.95</td>\n",
       "      <td id=\"T_2f063_row7_col3\" class=\"data row7 col3\" >656.34</td>\n",
       "      <td id=\"T_2f063_row7_col4\" class=\"data row7 col4\" >725.15</td>\n",
       "      <td id=\"T_2f063_row7_col5\" class=\"data row7 col5\" >816.48</td>\n",
       "      <td id=\"T_2f063_row7_col6\" class=\"data row7 col6\" >0.04</td>\n",
       "    </tr>\n",
       "    <tr>\n",
       "      <th id=\"T_2f063_level1_row8\" class=\"row_heading level1 row8\" >high</th>\n",
       "      <td id=\"T_2f063_row8_col0\" class=\"data row8 col0\" >1</td>\n",
       "      <td id=\"T_2f063_row8_col1\" class=\"data row8 col1\" ></td>\n",
       "      <td id=\"T_2f063_row8_col2\" class=\"data row8 col2\" >39.51</td>\n",
       "      <td id=\"T_2f063_row8_col3\" class=\"data row8 col3\" >668.50</td>\n",
       "      <td id=\"T_2f063_row8_col4\" class=\"data row8 col4\" >755.65</td>\n",
       "      <td id=\"T_2f063_row8_col5\" class=\"data row8 col5\" >851.00</td>\n",
       "      <td id=\"T_2f063_row8_col6\" class=\"data row8 col6\" >0.08</td>\n",
       "    </tr>\n",
       "  </tbody>\n",
       "</table>\n"
      ]
     },
     "execution_count": 9,
     "metadata": {},
     "output_type": "execute_result"
    }
   ],
   "execution_count": 9
  },
  {
   "metadata": {},
   "cell_type": "markdown",
   "source": "Congratulations, now you know how to use SimDec to get more insights on your problem!",
   "id": "3cdf58c4bd3dbbca"
  }
 ],
 "metadata": {
  "kernelspec": {
   "display_name": "Python 3 (ipykernel)",
   "language": "python",
   "name": "python3"
  },
  "language_info": {
   "codemirror_mode": {
    "name": "ipython",
    "version": 3
   },
   "file_extension": ".py",
   "mimetype": "text/x-python",
   "name": "python",
   "nbconvert_exporter": "python",
   "pygments_lexer": "ipython3",
   "version": "3.12.1"
  }
 },
 "nbformat": 4,
 "nbformat_minor": 5
}
